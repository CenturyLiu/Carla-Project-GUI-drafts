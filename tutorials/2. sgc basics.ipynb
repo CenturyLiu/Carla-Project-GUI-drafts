{
 "cells": [
  {
   "cell_type": "markdown",
   "metadata": {},
   "source": [
    "# SGC basic\n",
    "\n",
    "This document discuss the basic usage of [sgc](https://program.sambull.org/sgc/index.html), a GUI toolkit for Pygame. We can use sgc along with a normal Pygame display. Please make sure you understands the basic of pygame display before continue."
   ]
  },
  {
   "cell_type": "markdown",
   "metadata": {},
   "source": [
    "- Step 1: import sgc and initialize\n",
    "\n",
    "  Note: The sgc tool kit is already included in the tutorial package. If you want to download and install the sgc yourself, go to [SGC - 0.2.1](https://www.pygame.org/project-SGC-2089-4505.html)."
   ]
  },
  {
   "cell_type": "code",
   "execution_count": 1,
   "metadata": {},
   "outputs": [
    {
     "name": "stdout",
     "output_type": "stream",
     "text": [
      "pygame 1.9.6\n",
      "Hello from the pygame community. https://www.pygame.org/contribute.html\n"
     ]
    }
   ],
   "source": [
    "import sgc\n",
    "from sgc.locals import *\n",
    "\n",
    "import pygame\n",
    "from pygame.locals import *\n",
    "\n",
    "# initialize pygame\n",
    "pygame.display.init()\n",
    "pygame.font.init()\n",
    "\n",
    "# initialize sgc screen\n",
    "# Note: to use sgc tools, we use sgc screen instead of pygame display\n",
    "screen = sgc.surface.Screen((640,480))\n",
    "\n",
    "white = (255,255,255)\n",
    "screen.fill(white) # fill the screen with black color\n",
    "pygame.display.flip() # show the changes"
   ]
  },
  {
   "cell_type": "markdown",
   "metadata": {},
   "source": [
    "- Step 2: create a sgc-button"
   ]
  },
  {
   "cell_type": "code",
   "execution_count": 2,
   "metadata": {},
   "outputs": [],
   "source": [
    "btn = sgc.Button(label=\"Clicky\", pos=(100, 100)) # create a button at (100,100) on the screen\n",
    "                                                 # the pos here is the position of the left-upper corner\n",
    "                                                 # of the button on the sgc screen\n",
    "btn.add(fade=True) # display a button, the button will fade out on the screen\n"
   ]
  },
  {
   "cell_type": "markdown",
   "metadata": {},
   "source": [
    "     show the screen and button"
   ]
  },
  {
   "cell_type": "code",
   "execution_count": null,
   "metadata": {},
   "outputs": [],
   "source": [
    "clock = pygame.time.Clock()\n",
    "is_running = True\n",
    "while is_running:\n",
    "    time = clock.tick(30)\n",
    "    for event in pygame.event.get():\n",
    "        sgc.event(event) # send the pygame event to all sgc elements\n",
    "        if event.type == QUIT:\n",
    "            is_running = False\n",
    "    \n",
    "    screen.fill(white)\n",
    "    sgc.update(time)\n",
    "    pygame.display.flip()\n",
    "    "
   ]
  },
  {
   "cell_type": "markdown",
   "metadata": {},
   "source": [
    "- Step 3: create a callback function for the button\n",
    "\n",
    "  Up to this point, we create and display a button. Now, let's create a simple callback function for the btn, so that it will be useful\n",
    "  \n",
    "  **Note: please restart kernel at this point, rerun the first and second cell. Do not run the third code cell. Otherwise the demo below won't be shown.**"
   ]
  },
  {
   "cell_type": "code",
   "execution_count": 3,
   "metadata": {},
   "outputs": [],
   "source": [
    "count = 0\n",
    "\n",
    "# create a simple callback function\n",
    "# Note: callback function takes no argument\n",
    "def callback():\n",
    "    global count\n",
    "    count = count + 1\n",
    "    print(count)"
   ]
  },
  {
   "cell_type": "markdown",
   "metadata": {},
   "source": [
    "    Apply the callback function to the button"
   ]
  },
  {
   "cell_type": "code",
   "execution_count": 4,
   "metadata": {},
   "outputs": [],
   "source": [
    "btn.on_click = callback"
   ]
  },
  {
   "cell_type": "markdown",
   "metadata": {},
   "source": [
    "    Callback demo: the button will be destroyed after 5 clicks."
   ]
  },
  {
   "cell_type": "code",
   "execution_count": 5,
   "metadata": {},
   "outputs": [
    {
     "name": "stdout",
     "output_type": "stream",
     "text": [
      "1\n",
      "2\n",
      "3\n",
      "4\n",
      "5\n"
     ]
    }
   ],
   "source": [
    "clock = pygame.time.Clock()\n",
    "is_running = True\n",
    "while is_running:\n",
    "    time = clock.tick(30)\n",
    "    for event in pygame.event.get():\n",
    "        sgc.event(event) # send the pygame event to all sgc elements\n",
    "        if event.type == QUIT:\n",
    "            is_running = False\n",
    "    \n",
    "    if count == 5:\n",
    "        btn.remove(fade=False) # remove the button after 5 click\n",
    "    \n",
    "    screen.fill(white)\n",
    "    sgc.update(time)\n",
    "    pygame.display.flip()"
   ]
  },
  {
   "cell_type": "markdown",
   "metadata": {},
   "source": [
    "Congratulations! Now you understand how sgc works with pygame, and have a basic idea of callback function for buttons."
   ]
  },
  {
   "cell_type": "code",
   "execution_count": null,
   "metadata": {},
   "outputs": [],
   "source": []
  }
 ],
 "metadata": {
  "kernelspec": {
   "display_name": "drlnd",
   "language": "python",
   "name": "drlnd"
  },
  "language_info": {
   "codemirror_mode": {
    "name": "ipython",
    "version": 3
   },
   "file_extension": ".py",
   "mimetype": "text/x-python",
   "name": "python",
   "nbconvert_exporter": "python",
   "pygments_lexer": "ipython3",
   "version": "3.6.10"
  }
 },
 "nbformat": 4,
 "nbformat_minor": 4
}
