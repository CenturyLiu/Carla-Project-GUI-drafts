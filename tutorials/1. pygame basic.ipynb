{
 "cells": [
  {
   "cell_type": "markdown",
   "metadata": {},
   "source": [
    "## Pygame Basics\n",
    "\n",
    "This notebook discusses the basic component to create a pygame display."
   ]
  },
  {
   "cell_type": "markdown",
   "metadata": {},
   "source": [
    "- Step 1: import pygame and initialize"
   ]
  },
  {
   "cell_type": "code",
   "execution_count": 1,
   "metadata": {},
   "outputs": [
    {
     "name": "stdout",
     "output_type": "stream",
     "text": [
      "pygame 1.9.6\n",
      "Hello from the pygame community. https://www.pygame.org/contribute.html\n"
     ]
    }
   ],
   "source": [
    "import pygame\n",
    "\n",
    "pygame.init() # init a pygame display\n",
    "pygame.display.set_caption('pygame basic') # set caption for this display\n",
    "display_width = 1280\n",
    "display_height = 720\n",
    "display = pygame.display.set_mode((display_width,display_height)) # set the size of the display\n",
    "                                                                  # note that the order (width,height)\n",
    "    \n",
    "white = (255,255,255) # rgb value of white\n",
    "\n",
    "display.fill(white) # fill the basic display with white color\n",
    "\n",
    "pygame.display.update() # set all changes for the \"display\" defined above, without this line, display will\n",
    "                        # still be black"
   ]
  },
  {
   "cell_type": "markdown",
   "metadata": {},
   "source": [
    "- Step 2: create a pygame surface.\n",
    "  \n",
    "  pygame.Surface is the pygame object to represent image. For more pygame.Surface function, please refer to [pygame.Surface](https://www.pygame.org/docs/ref/surface.html)\n",
    "  \n",
    "  In the following cell, we'll create a surface and draw a simple representation of \"car\"."
   ]
  },
  {
   "cell_type": "code",
   "execution_count": 2,
   "metadata": {},
   "outputs": [
    {
     "data": {
      "text/plain": [
       "<rect(1, 1, 31, 31)>"
      ]
     },
     "execution_count": 2,
     "metadata": {},
     "output_type": "execute_result"
    }
   ],
   "source": [
    "bright_green = (0,255,0)\n",
    "car_surface = pygame.Surface((32, 32)) # create a surface with a tuple of width and height\n",
    "car_surface.fill(white)\n",
    "pygame.draw.polygon(car_surface,bright_green,[(1,1),(1,31),(21,31),(31,16),(21,1)]) # draw a polygon \n",
    "                                                                                    # with 5 vertex"
   ]
  },
  {
   "cell_type": "markdown",
   "metadata": {},
   "source": [
    "- Step 3: show the created car_surface in the main display"
   ]
  },
  {
   "cell_type": "code",
   "execution_count": 3,
   "metadata": {},
   "outputs": [
    {
     "data": {
      "text/plain": [
       "<rect(200, 100, 32, 32)>"
      ]
     },
     "execution_count": 3,
     "metadata": {},
     "output_type": "execute_result"
    }
   ],
   "source": [
    "car_pos = (200,100) # (width,height), representing the pos of the upper left corner of \n",
    "                    # car_surface in the display\n",
    "display.blit(car_surface,car_pos) # draw car_surface onto display\n"
   ]
  },
  {
   "cell_type": "code",
   "execution_count": 4,
   "metadata": {},
   "outputs": [],
   "source": [
    "pygame.display.update() # remember to update the display in order to update changes"
   ]
  },
  {
   "cell_type": "markdown",
   "metadata": {},
   "source": [
    "- Step 4: create a car moving scenario"
   ]
  },
  {
   "cell_type": "code",
   "execution_count": 5,
   "metadata": {},
   "outputs": [],
   "source": [
    "clock = pygame.time.Clock() # create a clock instance to regularly update the display\n",
    "is_running = True\n",
    "\n",
    "car_pos_width = 200\n",
    "car_pos_height = 100\n",
    "\n",
    "while is_running:\n",
    "    for event in pygame.event.get():   # pygame has lots of different events, here is using a \"QUIT\" event to exit\n",
    "        if event.type == pygame.QUIT: # the scenario\n",
    "            is_running = False\n",
    "    display.fill(white)\n",
    "    display.blit(car_surface,(car_pos_width,car_pos_height)) # show the vehicle\n",
    "    \n",
    "    # update next position of vehicle\n",
    "    car_pos_width += 5\n",
    "    if car_pos_width >= 1200:\n",
    "        car_pos_width = 200\n",
    "    \n",
    "    pygame.display.update()\n",
    "    clock.tick(10) # at most 10 fps\n",
    "    "
   ]
  },
  {
   "cell_type": "markdown",
   "metadata": {},
   "source": [
    "Congratulations! Now you should have a sense of how pygame display is working. The display is showing anything created to between two pygame.display.update()."
   ]
  },
  {
   "cell_type": "code",
   "execution_count": null,
   "metadata": {},
   "outputs": [],
   "source": []
  }
 ],
 "metadata": {
  "kernelspec": {
   "display_name": "drlnd",
   "language": "python",
   "name": "drlnd"
  },
  "language_info": {
   "codemirror_mode": {
    "name": "ipython",
    "version": 3
   },
   "file_extension": ".py",
   "mimetype": "text/x-python",
   "name": "python",
   "nbconvert_exporter": "python",
   "pygments_lexer": "ipython3",
   "version": "3.6.10"
  }
 },
 "nbformat": 4,
 "nbformat_minor": 4
}
